{
 "cells": [
  {
   "cell_type": "code",
   "execution_count": 6,
   "metadata": {},
   "outputs": [],
   "source": [
    "import torchio as tio\n",
    "from pathlib import Path\n",
    "from utils.data_utils import volume_processing\n",
    "\n",
    "def process_subjects(paths, h, w, depth):\n",
    "    subjects = []\n",
    "    for subject_path in paths:\n",
    "        subject = tio.Subject({\"MRI\": tio.ScalarImage(subject_path)})\n",
    "        mri_data = subject[\"MRI\"]\n",
    "        processed_mri_data = volume_processing(mri_data, h, w, depth)\n",
    "        processed_subject = tio.Subject({\"MRI\": processed_mri_data})\n",
    "        subjects.append(processed_subject)\n",
    "    return subjects"
   ]
  },
  {
   "cell_type": "code",
   "execution_count": 7,
   "metadata": {},
   "outputs": [
    {
     "name": "stdout",
     "output_type": "stream",
     "text": [
      "cuda:1\n"
     ]
    },
    {
     "name": "stderr",
     "output_type": "stream",
     "text": [
      "/home/annac/miniconda3/envs/pytorchenv/lib/python3.7/site-packages/openpyxl/worksheet/_reader.py:329: UserWarning: Unknown extension is not supported and will be removed\n",
      "  warn(msg)\n",
      "/home/annac/miniconda3/envs/pytorchenv/lib/python3.7/site-packages/torchio/transforms/transform.py:158: RuntimeWarning: Output shape (97, 97, 10) != target shape (96, 96, 10). Fixing with CropOrPad\n",
      "  transformed = self.apply_transform(subject)\n",
      "/home/annac/miniconda3/envs/pytorchenv/lib/python3.7/site-packages/torchio/transforms/transform.py:158: RuntimeWarning: Output shape (97, 96, 10) != target shape (96, 96, 10). Fixing with CropOrPad\n",
      "  transformed = self.apply_transform(subject)\n",
      "/home/annac/miniconda3/envs/pytorchenv/lib/python3.7/site-packages/torchio/transforms/transform.py:158: RuntimeWarning: Output shape (96, 97, 10) != target shape (96, 96, 10). Fixing with CropOrPad\n",
      "  transformed = self.apply_transform(subject)\n"
     ]
    }
   ],
   "source": [
    "import yaml\n",
    "import numpy as np\n",
    "import matplotlib.pyplot as plt\n",
    "import torch\n",
    "import torch.optim as optim\n",
    "import torch.nn.init\n",
    "from pathlib import Path\n",
    "import torchio as tio\n",
    "import pandas as pd\n",
    "from models.CNN_3D import Unsupervised_Segmentation_Model, myloss3D_opt\n",
    "from utils.data_utils import volume_processing\n",
    "\n",
    "# Load configuration\n",
    "with open(\"../config.yaml\", \"r\") as file:\n",
    "    config = yaml.safe_load(file)\n",
    "\n",
    "device_ids = [config[\"device\"]]\n",
    "device = torch.device(\"cuda:%d\" % device_ids[0] if torch.cuda.is_available() else \"cpu\")\n",
    "print(device)\n",
    "\n",
    "####### DATASET ########\n",
    "df = pd.read_excel(config[\"path_to_excel\"])\n",
    "\n",
    "h, w, depth = config[\"h\"], config[\"w\"], config[\"depth\"]\n",
    "\n",
    "# T2 STIR\n",
    "train_list_T2 = df.loc[((df[\"data_split\"] == \"TRAIN\") & (df[\"modality\"] == config[\"modality_2\"]))]\n",
    "train_list_T2 = train_list_T2[\"FILE\"]\n",
    "val_list_T2 = df.loc[((df[\"data_split\"] == \"VAL\") & (df[\"modality\"] == config[\"modality_2\"]))]\n",
    "val_list_T2 = val_list_T2[\"FILE\"]\n",
    "train_paths_T2 = [Path(i) for i in train_list_T2]\n",
    "val_paths_T2 = [Path(i) for i in val_list_T2]\n",
    "\n",
    "# T1 TSE\n",
    "train_list_T1 = df.loc[((df[\"data_split\"] == \"TRAIN\") & (df[\"modality\"] == config[\"modality_1\"]))]\n",
    "train_list_T1 = train_list_T1[\"FILE\"]\n",
    "val_list_T1 = df.loc[((df[\"data_split\"] == \"VAL\") & (df[\"modality\"] == config[\"modality_1\"]))]\n",
    "val_list_T1 = val_list_T1[\"FILE\"]\n",
    "train_paths_T1 = [Path(i) for i in train_list_T1]\n",
    "val_paths_T1 = [Path(i) for i in val_list_T1]\n",
    "\n",
    "train_sbj_T2 = process_subjects(train_paths_T2, h, w, depth)\n",
    "val_sbj_T2 = process_subjects(val_paths_T2, h, w, depth)\n",
    "\n",
    "train_sbj_T1 = process_subjects(train_paths_T1, h, w, depth)\n",
    "\n",
    "\n",
    "val_sbj_T1 = process_subjects(val_paths_T1, h, w, depth)\n",
    "\n"
   ]
  },
  {
   "cell_type": "code",
   "execution_count": 2,
   "metadata": {
    "collapsed": false
   },
   "outputs": [
    {
     "name": "stdout",
     "output_type": "stream",
     "text": [
      "cuda:3\n"
     ]
    }
   ],
   "source": [
    "device_ids = [3]\n",
    "device = torch.device(\"cuda:%d\" % device_ids[0] if torch.cuda.is_available() else \"cpu\")\n",
    "print(device)"
   ]
  },
  {
   "cell_type": "markdown",
   "metadata": {
    "collapsed": false
   },
   "source": [
    "### Dataset Creation"
   ]
  },
  {
   "cell_type": "code",
   "execution_count": 3,
   "metadata": {
    "collapsed": false
   },
   "outputs": [
    {
     "name": "stderr",
     "output_type": "stream",
     "text": [
      "/home/annac/miniconda3/envs/pytorchenv/lib/python3.7/site-packages/openpyxl/worksheet/_reader.py:329: UserWarning: Unknown extension is not supported and will be removed\n",
      "  warn(msg)\n"
     ]
    }
   ],
   "source": [
    "df = pd.read_excel('/home/annac/Documents/3D Bone Tumor Segmentation/Tables/modality_data_split801010.xlsx')"
   ]
  },
  {
   "cell_type": "code",
   "execution_count": 4,
   "metadata": {
    "collapsed": false
   },
   "outputs": [],
   "source": [
    "# T2 STIR\n",
    "train_list_T2 = df.loc[((df['data_split'] == 'TRAIN') & (df['modality'] == 'T2'))]\n",
    "train_list_T2 = train_list_T2['FILE']\n",
    "val_list_T2 = df.loc[((df['data_split'] == 'VAL') & (df['modality'] == 'T2'))]\n",
    "val_list_T2 = val_list_T2['FILE']\n",
    "train_paths_T2 = [Path(i) for i in train_list_T2]\n",
    "val_paths_T2 = [Path(i) for i in val_list_T2]\n",
    "\n",
    "# T1 TSE\n",
    "train_list_T1 = df.loc[((df['data_split'] == 'TRAIN') & (df['modality'] == 'T1_FS_KM'))]\n",
    "train_list_T1 = train_list_T1['FILE']\n",
    "val_list_T1 = df.loc[((df['data_split'] == 'VAL') & (df['modality'] == 'T1_FS_KM'))]\n",
    "val_list_T1 = val_list_T1['FILE']\n",
    "train_paths_T1 = [Path(i) for i in train_list_T1]\n",
    "val_paths_T1 = [Path(i) for i in val_list_T1]"
   ]
  },
  {
   "cell_type": "code",
   "execution_count": 5,
   "metadata": {
    "collapsed": false
   },
   "outputs": [
    {
     "name": "stderr",
     "output_type": "stream",
     "text": [
      "/home/annac/miniconda3/envs/pytorchenv/lib/python3.7/site-packages/torchio/transforms/transform.py:158: RuntimeWarning: Output shape (501, 501, 20) != target shape (500, 500, 20). Fixing with CropOrPad\n",
      "  transformed = self.apply_transform(subject)\n",
      "/home/annac/miniconda3/envs/pytorchenv/lib/python3.7/site-packages/torchio/transforms/transform.py:158: RuntimeWarning: Output shape (500, 501, 20) != target shape (500, 500, 20). Fixing with CropOrPad\n",
      "  transformed = self.apply_transform(subject)\n",
      "/home/annac/miniconda3/envs/pytorchenv/lib/python3.7/site-packages/torchio/transforms/transform.py:158: RuntimeWarning: Output shape (501, 500, 20) != target shape (500, 500, 20). Fixing with CropOrPad\n",
      "  transformed = self.apply_transform(subject)\n"
     ]
    }
   ],
   "source": [
    "train_sbj_T2 = []\n",
    "for subject_path in train_paths_T2:\n",
    "    subject = tio.Subject({\"MRI\":tio.ScalarImage(subject_path)})\n",
    "    mri_data = subject['MRI']\n",
    "    processed_mri_data = volume_processing(mri_data, 500, 500, 20)\n",
    "    processed_subject = tio.Subject({\"MRI\": processed_mri_data})\n",
    "    train_sbj_T2.append(processed_subject)\n",
    "\n",
    "val_sbj_T2 = []\n",
    "for subject_path in val_paths_T2:\n",
    "    subject = tio.Subject({\"MRI\":tio.ScalarImage(subject_path)})\n",
    "    mri_data = subject['MRI']\n",
    "    processed_mri_data = volume_processing(mri_data, 500, 500, 20)\n",
    "    processed_subject = tio.Subject({\"MRI\": processed_mri_data})\n",
    "    val_sbj_T2.append(processed_subject)\n",
    "\n",
    "train_sbj_T1 = []\n",
    "for subject_path in train_paths_T1:\n",
    "    subject = tio.Subject({\"MRI\":tio.ScalarImage(subject_path)})\n",
    "    mri_data = subject['MRI']\n",
    "    processed_mri_data = volume_processing(mri_data, 500, 500, 20)\n",
    "    processed_subject = tio.Subject({\"MRI\": processed_mri_data})\n",
    "    train_sbj_T1.append(processed_subject)\n",
    "\n",
    "val_sbj_T1 = []\n",
    "for subject_path in val_paths_T1:\n",
    "    subject = tio.Subject({\"MRI\":tio.ScalarImage(subject_path)})\n",
    "    mri_data = subject['MRI']\n",
    "    processed_mri_data = volume_processing(mri_data, 500, 500, 20)\n",
    "    processed_subject = tio.Subject({\"MRI\": processed_mri_data})\n",
    "    val_sbj_T1.append(processed_subject)"
   ]
  },
  {
   "cell_type": "code",
   "execution_count": 3,
   "metadata": {},
   "outputs": [],
   "source": [
    "train_transform = tio.Compose([tio.RandomFlip(axes=('LR',), flip_probability = 0.3),\n",
    "    tio.RandomAffine(scales=(0.9, 1.2),degrees=15)])"
   ]
  },
  {
   "cell_type": "code",
   "execution_count": 4,
   "metadata": {
    "collapsed": false
   },
   "outputs": [
    {
     "name": "stdout",
     "output_type": "stream",
     "text": [
      "There are 164 train subjects and 20 val subjects in T2 STIR\n",
      "There are 164 train subjects and 20 val subjects in T1 TSE\n"
     ]
    }
   ],
   "source": [
    "\n",
    "train_dataset_T2 = tio.SubjectsDataset(train_sbj_T2, transform=train_transform)\n",
    "val_dataset_T2 = tio.SubjectsDataset(val_sbj_T2) #, transform=val_transform)\n",
    "\n",
    "print(f\"There are {len(train_sbj_T2)} train subjects and {len(val_sbj_T2)} val subjects in T2 STIR\")\n",
    "\n",
    "train_dataset_T1 = tio.SubjectsDataset(train_sbj_T1, transform=train_transform)\n",
    "val_dataset_T1 = tio.SubjectsDataset(val_sbj_T1) #, transform=val_transform)\n",
    "\n",
    "print(f\"There are {len(train_sbj_T1)} train subjects and {len(val_sbj_T1)} val subjects in T1 TSE\")"
   ]
  },
  {
   "cell_type": "code",
   "execution_count": 5,
   "metadata": {
    "collapsed": false
   },
   "outputs": [],
   "source": [
    "batch_size = 4\n",
    "num_workers = 4\n",
    "train_loader_T2 = torch.utils.data.DataLoader(train_dataset_T2, batch_size=batch_size,\n",
    "                                           num_workers=num_workers, shuffle=False,\n",
    "                                              pin_memory=True)\n",
    "val_loader_T2 = torch.utils.data.DataLoader(val_dataset_T2, batch_size=batch_size,\n",
    "                                         num_workers=num_workers, shuffle=False,\n",
    "                                            pin_memory=True)\n",
    "\n",
    "train_loader_T1 = torch.utils.data.DataLoader(train_dataset_T1, batch_size=batch_size,\n",
    "                                           num_workers=num_workers, shuffle=False,\n",
    "                                              pin_memory=True)\n",
    "val_loader_T1 = torch.utils.data.DataLoader(val_dataset_T1, batch_size=batch_size,\n",
    "                                         num_workers=num_workers,shuffle=False,\n",
    "                                            pin_memory=True)"
   ]
  },
  {
   "cell_type": "markdown",
   "metadata": {
    "collapsed": false
   },
   "source": [
    "### Train"
   ]
  },
  {
   "cell_type": "code",
   "execution_count": null,
   "metadata": {
    "collapsed": false
   },
   "outputs": [],
   "source": [
    "import warnings\n",
    "warnings.simplefilter(\"ignore\")\n",
    "input_channels = 1\n",
    "nConv = 2\n",
    "nChannel = 30\n",
    "lr = 0.001\n",
    "num_epochs = 1000\n",
    "\n",
    "model = Unsupervised_Segmentation_Model(input_channels, nConv=nConv, nChannel=nChannel)\n",
    "model.to(device)\n",
    "optimizer = optim.SGD(model.parameters(), lr=lr, momentum=0.9)\n",
    "\n",
    "\n",
    "mean_train_loss = []\n",
    "mean_val_loss = []\n",
    "best_val_loss = np.Inf\n",
    "epochs_since_improvement = 0\n",
    "patience = 10\n",
    "converge = 0\n",
    "for epoch in range(num_epochs):\n",
    "    \n",
    "    # TRAINING\n",
    "    model.train()\n",
    "    batch_idx=1\n",
    "    epoch_train_loss = []\n",
    "    epoch_val_loss = []\n",
    "    for batch1, batch2 in zip(train_loader_T2, train_loader_T1):\n",
    "        train_batch_T2 = batch1['MRI']['data'].to(device)\n",
    "        train_batch_T1 = batch2['MRI']['data'].to(device)\n",
    "\n",
    "        # Forward\n",
    "        optimizer.zero_grad()\n",
    "        pred_batch = model(train_batch_T2, train_batch_T1).to(device)\n",
    "        torch.cuda.empty_cache()\n",
    "\n",
    "        # Loss\n",
    "        loss, nLabels = myloss3D_opt(pred_batch,train_batch_T2, nChannel*2, device)\n",
    "        torch.cuda.empty_cache()\n",
    "\n",
    "        # Backpropagation\n",
    "        loss.backward()\n",
    "\n",
    "        # Optimization step\n",
    "        optimizer.step()\n",
    "\n",
    "        epoch_train_loss.append(loss.item())\n",
    "        print ('Epoch:',epoch,\"| batch:\", batch_idx,' | loss :', loss.item(), \"| N Clusters: \", nLabels)\n",
    "        batch_idx = batch_idx+1\n",
    "        torch.cuda.empty_cache()\n",
    "\n",
    "\n",
    "    mean_train_loss.append(np.mean(epoch_train_loss))\n",
    "\n",
    "    # VALIDATION\n",
    "    model.eval()\n",
    "    with torch.no_grad():\n",
    "        for batch1, batch2 in zip(val_loader_T2, val_loader_T1):\n",
    "            val_batch_T2 = batch1['MRI']['data'].to(device)\n",
    "            val_batch_T1 = batch2['MRI']['data'].to(device)\n",
    "\n",
    "            # Forward\n",
    "            pred_batch = model(val_batch_T2, val_batch_T1).to(device)\n",
    "\n",
    "            # Loss\n",
    "            loss, nLabels = myloss3D_opt(pred_batch,val_batch_T2, nChannel*2, device)\n",
    "\n",
    "            epoch_val_loss.append(loss.item())\n",
    "            del val_batch_T2, val_batch_T1, pred_batch, loss\n",
    "            torch.cuda.empty_cache()\n",
    "\n",
    "    mean_val_loss.append(np.mean(epoch_val_loss))\n",
    "    print(\"Val Loss: \", np.mean(epoch_val_loss))\n",
    "\n",
    "    # Check if the validation loss has improved\n",
    "    if  np.mean(epoch_val_loss) < best_val_loss:\n",
    "        best_val_loss = np.mean(epoch_val_loss)\n",
    "        epochs_since_improvement = 0\n",
    "        converge = epoch\n",
    "        torch.save(model.state_dict(), '3D_MultiModal_060923_fliprot500.pt')\n",
    "    else:\n",
    "        epochs_since_improvement += 1\n",
    "\n",
    "    # Check if training should be stopped\n",
    "    if epochs_since_improvement >= patience:\n",
    "        print('Training stopped because validation loss did not improve for {} epochs.'.format(patience))\n",
    "        np.save('mean_train_loss_060923_fliprot500.npy', mean_train_loss)\n",
    "        np.save('mean_val_loss_060923_fliprot500.npy', mean_val_loss)\n",
    "        break\n",
    "\n",
    "    if epoch == (num_epochs-1):\n",
    "        np.save('mean_train_loss_060923_e_fliprot500.npy', mean_train_loss)\n",
    "        np.save('mean_val_loss_060923_e_fliprot500.npy', mean_val_loss)\n",
    "        break\n",
    "\n"
   ]
  }
 ],
 "metadata": {
  "kernelspec": {
   "display_name": "pytorchenv",
   "language": "python",
   "name": "python3"
  },
  "language_info": {
   "codemirror_mode": {
    "name": "ipython",
    "version": 3
   },
   "file_extension": ".py",
   "mimetype": "text/x-python",
   "name": "python",
   "nbconvert_exporter": "python",
   "pygments_lexer": "ipython3",
   "version": "3.7.16"
  }
 },
 "nbformat": 4,
 "nbformat_minor": 0
}
